{
 "cells": [
  {
   "cell_type": "markdown",
   "metadata": {},
   "source": [
    "## Using NumPy with ArcGIS: *FeatureClass to NumPy Arrays*\n",
    "\n",
    "This notebook demonstrates how NumPy facilitates manipulation of feature class attribute data. By no means is this an in-depth introduction, let alone discussion, of NumPy, but it does at least familiarize you with what NumPy is about and how it can be used with ArcGIS feature classes. The links below provide more in-depth reading on NumPy and how it's used with feature classes.\n",
    "\n",
    "Resources:\n",
    "* https://jakevdp.github.io/PythonDataScienceHandbook/index.html#2.-Introduction-to-NumPy\n",
    "* http://pro.arcgis.com/en/pro-app/arcpy/data-access/featureclasstonumpyarray.htm"
   ]
  },
  {
   "cell_type": "code",
   "execution_count": 1,
   "metadata": {},
   "outputs": [],
   "source": [
    "#Import arcpy and numpy\n",
    "import arcpy\n",
    "import numpy as np"
   ]
  },
  {
   "cell_type": "code",
   "execution_count": 2,
   "metadata": {},
   "outputs": [
    {
     "name": "stdout",
     "output_type": "stream",
     "text": [
      "True\n"
     ]
    }
   ],
   "source": [
    "#Point to the HUC12.shp feature class in the Data folder (ensure it exists)\n",
    "huc12_fc = '../Data/HUC12.shp'\n",
    "print (arcpy.Exists(huc12_fc))"
   ]
  },
  {
   "cell_type": "code",
   "execution_count": 3,
   "metadata": {},
   "outputs": [
    {
     "data": {
      "text/plain": [
       "['FID',\n",
       " 'Shape',\n",
       " 'OBJECTID_2',\n",
       " 'OBJECTID',\n",
       " 'HUC_8',\n",
       " 'HUC_10',\n",
       " 'HUC_12',\n",
       " 'ACRES',\n",
       " 'NCONTRB_A',\n",
       " 'HU_10_GNIS',\n",
       " 'HU_12_GNIS',\n",
       " 'HU_10_DS',\n",
       " 'HU_10_NAME',\n",
       " 'HU_10_MOD',\n",
       " 'HU_10_TYPE',\n",
       " 'HU_12_DS',\n",
       " 'HU_12_NAME',\n",
       " 'HU_12_MOD',\n",
       " 'HU_12_TYPE',\n",
       " 'META_ID',\n",
       " 'STATES',\n",
       " 'GlobalID',\n",
       " 'SHAPE_Leng',\n",
       " 'GAZ_ID',\n",
       " 'WBD_Date',\n",
       " 'VPUID',\n",
       " 'Shape_Le_1',\n",
       " 'Shape_STAr',\n",
       " 'Shape_STLe']"
      ]
     },
     "execution_count": 3,
     "metadata": {},
     "output_type": "execute_result"
    }
   ],
   "source": [
    "#List the fields contained in the \"huc12_fc\" feature class\n",
    "[f.name for f in arcpy.ListFields(huc12_fc)]"
   ]
  },
  {
   "cell_type": "markdown",
   "metadata": {},
   "source": [
    "* Here,we convert the feature class to a NumPy array using ArcPy's [`FeatureClassToNumPyArray`](http://pro.arcgis.com/en/pro-app/arcpy/data-access/featureclasstonumpyarray.htm) function. "
   ]
  },
  {
   "cell_type": "code",
   "execution_count": 4,
   "metadata": {},
   "outputs": [],
   "source": [
    "#List the fields we want to convert\n",
    "fieldList = [\"Shape@XY\",\"HUC_8\",\"HUC_12\",\"ACRES\"]\n",
    "arrHUCS = arcpy.da.FeatureClassToNumPyArray(huc12_fc,fieldList)"
   ]
  },
  {
   "cell_type": "code",
   "execution_count": 5,
   "metadata": {},
   "outputs": [
    {
     "data": {
      "text/plain": [
       "numpy.ndarray"
      ]
     },
     "execution_count": 5,
     "metadata": {},
     "output_type": "execute_result"
    }
   ],
   "source": [
    "#Display the type of the returned object\n",
    "type(arrHUCS)"
   ]
  },
  {
   "cell_type": "markdown",
   "metadata": {},
   "source": [
    "* As a NumPy array, we can do different operations on the feature class. But first, let's inspect the array's properties. "
   ]
  },
  {
   "cell_type": "code",
   "execution_count": null,
   "metadata": {},
   "outputs": [],
   "source": [
    "#Reveal documentation on the ndarray object\n",
    "arrHUCS?"
   ]
  },
  {
   "cell_type": "code",
   "execution_count": 6,
   "metadata": {},
   "outputs": [
    {
     "data": {
      "text/plain": [
       "210"
      ]
     },
     "execution_count": 6,
     "metadata": {},
     "output_type": "execute_result"
    }
   ],
   "source": [
    "#How many records does it contain\n",
    "arrHUCS.size"
   ]
  },
  {
   "cell_type": "code",
   "execution_count": null,
   "metadata": {},
   "outputs": [],
   "source": [
    "#What are the data types stored in this array\n",
    "print (arrHUCS.dtype)"
   ]
  },
  {
   "cell_type": "code",
   "execution_count": null,
   "metadata": {},
   "outputs": [],
   "source": [
    "#Or, just what are the names of the \"columns\"\n",
    "print (arrHUCS.dtype.names)"
   ]
  },
  {
   "cell_type": "markdown",
   "metadata": {},
   "source": [
    "In looking at the data types, you notice that this NumPy array actually has multiple data types.\n",
    "\n",
    "\n",
    "The ndarray object is actually a specific type of NumPy array - a **structured array**. (See https://jakevdp.github.io/PythonDataScienceHandbook/02.09-structured-data-numpy.html) A *structured array* is really just a collection of individual ndarrays, all of the same length, with each individual ndarray referenced by a field name. In other words, it's structured much like an attribute table where each field/column is it's own ndarray. \n",
    "\n",
    "Our `arrHUCs` structured array has 4 embedded \"sub\" arrays with the names `SHAPE@XY`, `HUC_8`, `HUC_12`, and `ACRES`)"
   ]
  },
  {
   "cell_type": "markdown",
   "metadata": {},
   "source": [
    "Now, let's see what we can do with this..."
   ]
  },
  {
   "cell_type": "markdown",
   "metadata": {},
   "source": [
    "### Selecting specific rows/columns/values from our NumPy array\n",
    "* Numpy arrays allow **slicing**, much like familiar Python lists, enabling us to quickly nab subsets of data. "
   ]
  },
  {
   "cell_type": "code",
   "execution_count": null,
   "metadata": {},
   "outputs": [],
   "source": [
    "#Show the first row of data\n",
    "print (arrHUCS[0]) "
   ]
  },
  {
   "cell_type": "code",
   "execution_count": null,
   "metadata": {},
   "outputs": [],
   "source": [
    "#Show all data from the first 5 rows of data\n",
    "print (arrHUCS[0:5])     "
   ]
  },
  {
   "cell_type": "code",
   "execution_count": null,
   "metadata": {},
   "outputs": [],
   "source": [
    "#YOU TRY IT: Show all data from rows 10 thru 15\n",
    "print(arrHUCS[])"
   ]
  },
  {
   "cell_type": "code",
   "execution_count": null,
   "metadata": {},
   "outputs": [],
   "source": [
    "#Show the value of the 5th row in the `HUC_8' field\n",
    "arrHUCS[4]['HUC_8']"
   ]
  },
  {
   "cell_type": "code",
   "execution_count": 11,
   "metadata": {},
   "outputs": [
    {
     "data": {
      "text/plain": [
       "10563.0"
      ]
     },
     "execution_count": 11,
     "metadata": {},
     "output_type": "execute_result"
    }
   ],
   "source": [
    "#YOU TRY IT: Show the value in the ACRES field of the last row\n",
    "arrHUCS[-1]['ACRES']"
   ]
  },
  {
   "cell_type": "code",
   "execution_count": null,
   "metadata": {},
   "outputs": [],
   "source": [
    "#List all the HUC12s in the dataset\n",
    "print (arrHUCS['HUC_12'])"
   ]
  },
  {
   "cell_type": "code",
   "execution_count": 12,
   "metadata": {
    "scrolled": false
   },
   "outputs": [
    {
     "name": "stdout",
     "output_type": "stream",
     "text": [
      "[15414.         42390.         32998.         29297.\n",
      " 14822.         21083.         11745.         26054.\n",
      " 10907.619446   10389.0986449   1165.65651233   886.50610243\n",
      " 33634.         32563.         27580.         20719.\n",
      " 12768.         25867.          8008.         21240.\n",
      " 11358.         23836.         31951.         18792.\n",
      " 20165.         18520.         20796.          8818.\n",
      " 35647.         21391.         20265.         29616.\n",
      " 22263.         39307.          8217.         19168.\n",
      " 18277.         31521.         14750.         22398.\n",
      " 27157.         14810.         18870.         24683.\n",
      " 17454.          9358.         32340.         24223.\n",
      " 32153.         15766.         21601.          9366.\n",
      "  9742.         38941.         22616.         25016.\n",
      " 27058.         25726.         29255.         23405.\n",
      " 17173.         21942.          7699.         16009.\n",
      " 19311.         20836.         16998.         14560.\n",
      " 25516.         14636.         31161.         18661.\n",
      " 18061.         17485.         16059.         19243.\n",
      " 18014.         24302.         19941.         27778.\n",
      " 31556.         12864.         19104.         19136.\n",
      " 22624.         17791.         31270.         12494.\n",
      " 34212.         18912.         14080.         26444.\n",
      " 22795.         11816.         13201.         19700.\n",
      " 16515.         18340.         19441.         25311.\n",
      " 14904.         19271.         21902.         15858.\n",
      " 15828.         21239.         36517.         31294.\n",
      " 17410.         27475.         16832.         11039.\n",
      " 30077.         11537.         28475.         17536.\n",
      " 33925.          9226.         12112.         17980.\n",
      " 16578.         28859.         21137.         19787.\n",
      " 32189.         20548.         24371.         28957.\n",
      " 23318.         34418.         16767.         21057.\n",
      " 30648.         28112.         21241.         17306.\n",
      " 20037.         12725.          7211.         16075.0241935\n",
      " 13695.0530108  22688.4055585  19487.         34639.\n",
      " 13254.         28697.         17290.          9888.\n",
      " 25058.         34026.         12473.         26878.\n",
      " 14296.         21453.         15423.         10024.\n",
      " 12719.         14049.         20080.         25830.\n",
      " 14322.         27096.         21149.         24702.\n",
      " 27567.         11685.         30931.         31931.\n",
      " 15816.          9908.         26602.         18018.\n",
      " 30493.         26341.         20905.         30343.\n",
      " 11467.         23252.          7600.         22417.\n",
      " 22238.         11216.         17564.         14031.\n",
      " 28548.         10413.         16915.          9831.\n",
      "  8983.         16201.         30032.          9125.\n",
      " 18535.         26784.         23247.         27922.\n",
      " 11756.         16103.         24285.         36264.\n",
      " 11309.         10990.         22641.         17316.\n",
      " 18730.         16920.         10109.         24602.\n",
      " 25106.         10563.        ]\n"
     ]
    }
   ],
   "source": [
    "#YOU TRY IT: #List all the ACRES values in the dataset\n",
    "print (arrHUCS['ACRES'])"
   ]
  },
  {
   "cell_type": "markdown",
   "metadata": {},
   "source": [
    "### Calculations\n",
    "* We can also do rapid calculations with the data..."
   ]
  },
  {
   "cell_type": "code",
   "execution_count": 13,
   "metadata": {},
   "outputs": [
    {
     "data": {
      "text/plain": [
       "20493.65411175457"
      ]
     },
     "execution_count": 13,
     "metadata": {},
     "output_type": "execute_result"
    }
   ],
   "source": [
    "#List the mean area of all HUCs\n",
    "arrHUCS['ACRES'].mean()"
   ]
  },
  {
   "cell_type": "code",
   "execution_count": 14,
   "metadata": {},
   "outputs": [],
   "source": [
    "#List all the ACRES values, but in hectares (1 acre = 2.47105 ha)\n",
    "ha = arrHUCS['ACRES'] * 2.47105"
   ]
  },
  {
   "cell_type": "code",
   "execution_count": 15,
   "metadata": {},
   "outputs": [
    {
     "data": {
      "text/plain": [
       "10634577.23849874"
      ]
     },
     "execution_count": 15,
     "metadata": {},
     "output_type": "execute_result"
    }
   ],
   "source": [
    "#YOU TRY IT: What is the total area of all HUC12s, in hectares\n",
    "ha.sum()"
   ]
  },
  {
   "cell_type": "markdown",
   "metadata": {},
   "source": [
    "### Subsetting data with NumPy\n",
    "We can also subset records in our array which we will do as a two step process. \n",
    "1. First we create a boolean **mask array**, that is an array of true and false values where a record is true if a condition is met. \n",
    "2. Then we **apply this mask** to our original array to isolate records where the mask is true"
   ]
  },
  {
   "cell_type": "code",
   "execution_count": null,
   "metadata": {},
   "outputs": [],
   "source": [
    "#First we make a boolean mask and show the first 10 records\n",
    "arrMask = (arrHUCS[\"HUC_8\"] == '03040103')\n",
    "arrMask[:10]"
   ]
  },
  {
   "cell_type": "code",
   "execution_count": null,
   "metadata": {},
   "outputs": [],
   "source": [
    "#Now we apply the mask to isolate record where this is true\n",
    "arrSelectedHUC8 = arrHUCS[arrMask]"
   ]
  },
  {
   "cell_type": "code",
   "execution_count": null,
   "metadata": {},
   "outputs": [],
   "source": [
    "#The original array had 201 records, how many records does this have? \n",
    "print (arrSelectedHUC8.size)"
   ]
  },
  {
   "cell_type": "code",
   "execution_count": null,
   "metadata": {},
   "outputs": [],
   "source": [
    "#Print the 11th row of our selected records\n",
    "arrSelectedHUC8[10]"
   ]
  },
  {
   "cell_type": "code",
   "execution_count": null,
   "metadata": {},
   "outputs": [],
   "source": [
    "#Calculate the mean area of these HUCs\n",
    "arrSelectedHUC8['ACRES'].mean()"
   ]
  },
  {
   "cell_type": "code",
   "execution_count": null,
   "metadata": {},
   "outputs": [],
   "source": [
    "#Plot a historam of HUC_12 areas\n",
    "%matplotlib inline\n",
    "import matplotlib.pyplot as plt\n",
    "#import seaborn; seaborn.set()  # set plot style"
   ]
  },
  {
   "cell_type": "code",
   "execution_count": null,
   "metadata": {},
   "outputs": [],
   "source": [
    "plt.hist(arrHUCS['ACRES']);\n",
    "plt.title('Area Distribution of HUC_12s')\n",
    "plt.xlabel('Area (acres)')\n",
    "plt.ylabel('number');"
   ]
  },
  {
   "cell_type": "markdown",
   "metadata": {},
   "source": [
    "### Recap\n",
    "Converting our feature attribute table to a NumPy array opens the door to some rapid computations using NumPy's speedy capabilities - a vast improvment over using arcpy's cursor objects!"
   ]
  }
 ],
 "metadata": {
  "kernelspec": {
   "display_name": "Python 3 (ipykernel)",
   "language": "python",
   "name": "python3"
  },
  "language_info": {
   "codemirror_mode": {
    "name": "ipython",
    "version": 3
   },
   "file_extension": ".py",
   "mimetype": "text/x-python",
   "name": "python",
   "nbconvert_exporter": "python",
   "pygments_lexer": "ipython3",
   "version": "3.11.8"
  }
 },
 "nbformat": 4,
 "nbformat_minor": 2
}
